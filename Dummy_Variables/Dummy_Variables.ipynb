{
 "cells": [
  {
   "cell_type": "markdown",
   "metadata": {
    "collapsed": true
   },
   "source": [
    "# DUMMY VARIABLES\n",
    "\n",
    "* ## Basic Concept\n",
    "* ## Code along - Basic Concept\n",
    "* ## Dummy Variables and linear regression Code along\n",
    "* ## Exercise\n",
    "\n",
    "\n",
    "### BASIC CONCEPT\n",
    "* A dummy variable is a numerical variable used in regression analysis to represent subgroups of the sample in your study.\n",
    "\n",
    "* Let’s say we have a categorical variable “AREA”, which takes on one of the following values: rural, suburban, and urban.\n",
    "\n",
    "\n",
    "|AREA     |\n",
    "|-------- |\n",
    "|Suburban |\n",
    "|Urban    |\n",
    "|Urban    |\n",
    "|Rural    |\n",
    "|Urban    |\n",
    "|Suburban |\n",
    "|Suburban |\n",
    "|Rural    |\n",
    "|Rural    |\n",
    "\n",
    "Most people think that you can number them likes so:\n",
    "\n",
    "Rural=0\n",
    "Urban=1\n",
    "Suburban=2\n",
    "\n",
    "However, something happens when you do this. The Numbers are either \n",
    "A. just another version of a category\n",
    "OR\n",
    "B. the numbers are ordered and thus you are saying suburban is worth 2 more than rural\n",
    "\n",
    "\n",
    "We need to go binary. We can do this by taking our variable “AREA” and turning it into new variables: \n",
    "\n",
    "AREA-suburban, AREA-urban\n",
    "\n",
    "|AREA\t  |AREA-suburban  |\tAREA- urban  | \n",
    "|---------|:-------------:|-------------:|\n",
    "|Suburban |1\t          |0             |\n",
    "|Urban\t  |0\t          |1             |\n",
    "|Urban\t  |0\t          |1             |\n",
    "|Rural\t  |0\t          |0             |\n",
    "|Urban\t  |0\t          |1             |\n",
    "|Suburban |1\t          |0             |\n",
    "|Suburban |0\t          |1\t         |\n",
    "\n",
    "\n",
    "Here is where you might be thinking, “you forgot rural.”\n",
    "\n",
    "You may have experience doing this with 3 Value logic .\n",
    "\n",
    "Let’s take a look at the row with rural while thinking of 3 value logic\n",
    "\n",
    "\n",
    "How many dummy variables would you need create for gender is defined as Male and Female. \n"
   ]
  },
  {
   "cell_type": "code",
   "execution_count": null,
   "metadata": {
    "collapsed": false
   },
   "outputs": [],
   "source": [
    "# First we will import pandas and the scikit learn library\n",
    "# Next we will read the area csv into the variable data\n",
    "import pandas as pd\n",
    "from sklearn.linear_model import LinearRegression\n",
    "\n",
    "data = pd.read_csv('~/Desktop/DS/05 Dummy_Variables/area.csv')\n",
    "data.head()"
   ]
  },
  {
   "cell_type": "code",
   "execution_count": null,
   "metadata": {
    "collapsed": false
   },
   "outputs": [],
   "source": [
    "# Create three dummy variables using get_dummies, then exclude the first dummy column\n",
    "area_dummies = pd.get_dummies(data.AREA, prefix='AREA')\n",
    "\n",
    "# Concatenate the dummy variable columns onto the original DataFrame \n",
    "# (axis=0 means rows, axis=1 means columns)\n",
    "data = pd.concat([data, area_dummies], axis=1)\n",
    "data.head()"
   ]
  },
  {
   "cell_type": "code",
   "execution_count": null,
   "metadata": {
    "collapsed": false
   },
   "outputs": [],
   "source": [
    "#Lets review a more applicable dataset. = \n",
    "bike_data = pd.read_csv('~/Desktop/DS/05 Dummy_Variables/bikeshare.csv')\n",
    "bike_data"
   ]
  },
  {
   "cell_type": "code",
   "execution_count": null,
   "metadata": {
    "collapsed": false
   },
   "outputs": [],
   "source": [
    "bikeshare_dummies = pd.get_dummies(data.AREA, prefix='AREA')\n",
    "#For season, we can't simply leave the encoding as:\n",
    "# 1 = spring, 2 = summer, 3 = fall, and 4 = winter, because that would imply an ordered relationship. \n",
    "# Instead, we create multiple dummy variables:\n",
    "# create dummy variables\n",
    "season_dummies = pd.get_dummies(bike_data.season, prefix='season')\n",
    "\n",
    "# print 5 random rows\n",
    "season_dummies.sample(n=5, random_state=1)"
   ]
  },
  {
   "cell_type": "code",
   "execution_count": null,
   "metadata": {
    "collapsed": false
   },
   "outputs": [],
   "source": [
    "# We actually only need three dummy variables (not four), \n",
    "# and so we'll drop the first dummy variable.\n",
    "\n",
    "# drop the first column\n",
    "season_dummies.drop(season_dummies.columns[0], axis=1, inplace=True)\n",
    "\n",
    "# print 5 random rows\n",
    "season_dummies.sample(n=5, random_state=1)\n",
    "\n",
    "# In general, if you have a categorical feature with k possible values, \n",
    "# you create k-1 dummy variables.\n",
    "\n",
    "# concatenate the original DataFrame and the dummy DataFrame (axis=0 means rows, axis=1 means columns)\n",
    "bike_data = pd.concat([bike_data, season_dummies], axis=1)\n",
    "\n",
    "# print 5 random rows\n",
    "bike_data.sample(n=5, random_state=1)"
   ]
  },
  {
   "cell_type": "code",
   "execution_count": null,
   "metadata": {
    "collapsed": false
   },
   "outputs": [],
   "source": [
    "# include dummy variables for season in the model\n",
    "feature_cols = ['temp', 'season_2', 'season_3', 'season_4', 'humidity']\n",
    "X = bike_data[feature_cols]\n",
    "y = bike_data.total\n",
    "linreg = LinearRegression()\n",
    "linreg.fit(X, y)\n",
    "zip(feature_cols, linreg.coef_)\n",
    "\n",
    "\n"
   ]
  },
  {
   "cell_type": "code",
   "execution_count": null,
   "metadata": {
    "collapsed": true
   },
   "outputs": [],
   "source": [
    "# How do we interpret the season coefficients? \n",
    "# They are measured against the baseline (spring):\n",
    "\n",
    "# Holding all other features fixed, summer is associated with a rental decrease of 3.39 \n",
    "# bikes compared to the spring.\n",
    "# Holding all other features fixed, fall is associated with a rental decrease of 41.7 \n",
    "# bikes compared to the spring.\n",
    "# Holding all other features fixed, winter is associated with a rental increase \n",
    "# of 64.4 bikes compared to the spring.\n",
    "\n",
    "# Would it matter if we changed which season was defined as the baseline?\n",
    "\n",
    "# No, it would simply change our interpretation of the coefficients.\n",
    "\n",
    "# Important: Dummy encoding is relevant for all machine learning models, not just linear regression models.\n"
   ]
  },
  {
   "cell_type": "markdown",
   "metadata": {
    "collapsed": true
   },
   "source": [
    "## Exercise:\n",
    "* hour: as a categorical feature (use 23 dummy variables)"
   ]
  },
  {
   "cell_type": "code",
   "execution_count": null,
   "metadata": {
    "collapsed": true
   },
   "outputs": [],
   "source": []
  }
 ],
 "metadata": {
  "anaconda-cloud": {},
  "kernelspec": {
   "display_name": "Python [default]",
   "language": "python",
   "name": "python2"
  },
  "language_info": {
   "codemirror_mode": {
    "name": "ipython",
    "version": 2
   },
   "file_extension": ".py",
   "mimetype": "text/x-python",
   "name": "python",
   "nbconvert_exporter": "python",
   "pygments_lexer": "ipython2",
   "version": "2.7.12"
  }
 },
 "nbformat": 4,
 "nbformat_minor": 1
}
